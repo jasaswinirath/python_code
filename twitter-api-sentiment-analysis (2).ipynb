{
  "nbformat": 4,
  "nbformat_minor": 0,
  "metadata": {
    "kernelspec": {
      "display_name": "Python 3",
      "language": "python",
      "name": "python3"
    },
    "language_info": {
      "codemirror_mode": {
        "name": "ipython",
        "version": 3
      },
      "file_extension": ".py",
      "mimetype": "text/x-python",
      "name": "python",
      "nbconvert_exporter": "python",
      "pygments_lexer": "ipython3",
      "version": "3.9.1"
    },
    "colab": {
      "name": "twitter_api_sentiment_analysis.ipynb",
      "provenance": []
    }
  },
  "cells": [
    {
      "cell_type": "markdown",
      "metadata": {
        "id": "t6MpXa53qsps"
      },
      "source": [
        "<h1 align='center' style='color:purple'><b>Sentiment Analysis</b></h1>"
      ]
    },
    {
      "cell_type": "markdown",
      "metadata": {
        "id": "e7t_GhaXqsp3"
      },
      "source": [
        "Sentiment analysis is the area which deals with judgments, responses as well as feelings, which is generated from texts, being extensively used in fields like data mining, web mining, and social media analytics because sentiments are the most essential characteristics to judge the human behavior. Sentiments can be positive, negative, or neutral."
      ]
    },
    {
      "cell_type": "markdown",
      "metadata": {
        "id": "qMhlMzxJqsp6"
      },
      "source": [
        "<b> Install tweepy </b>  \n",
        "[Tweepy](https://docs.tweepy.org/en/latest/) is an easy-to-use Python library for accessing the Twitter API."
      ]
    },
    {
      "cell_type": "code",
      "metadata": {
        "id": "HK7Wckz9qsp8",
        "outputId": "20b6719e-ff5d-4b58-864b-075e0dbfe024"
      },
      "source": [
        "!pip install tweepy"
      ],
      "execution_count": null,
      "outputs": [
        {
          "output_type": "stream",
          "text": [
            "Collecting tweepy\n",
            "  Downloading tweepy-3.10.0-py2.py3-none-any.whl (30 kB)\n",
            "Requirement already satisfied: six>=1.10.0 in c:\\users\\rahul\\appdata\\local\\programs\\python\\python39\\lib\\site-packages (from tweepy) (1.15.0)\n",
            "Collecting requests-oauthlib>=0.7.0\n",
            "  Using cached requests_oauthlib-1.3.0-py2.py3-none-any.whl (23 kB)\n",
            "Requirement already satisfied: requests[socks]>=2.11.1 in c:\\users\\rahul\\appdata\\local\\programs\\python\\python39\\lib\\site-packages (from tweepy) (2.25.1)\n",
            "Collecting oauthlib>=3.0.0\n",
            "  Using cached oauthlib-3.1.0-py2.py3-none-any.whl (147 kB)\n",
            "Requirement already satisfied: chardet<5,>=3.0.2 in c:\\users\\rahul\\appdata\\local\\programs\\python\\python39\\lib\\site-packages (from requests[socks]>=2.11.1->tweepy) (4.0.0)\n",
            "Requirement already satisfied: urllib3<1.27,>=1.21.1 in c:\\users\\rahul\\appdata\\local\\programs\\python\\python39\\lib\\site-packages (from requests[socks]>=2.11.1->tweepy) (1.26.3)\n",
            "Requirement already satisfied: idna<3,>=2.5 in c:\\users\\rahul\\appdata\\local\\programs\\python\\python39\\lib\\site-packages (from requests[socks]>=2.11.1->tweepy) (2.10)\n",
            "Requirement already satisfied: certifi>=2017.4.17 in c:\\users\\rahul\\appdata\\local\\programs\\python\\python39\\lib\\site-packages (from requests[socks]>=2.11.1->tweepy) (2020.12.5)\n",
            "Collecting PySocks!=1.5.7,>=1.5.6\n",
            "  Downloading PySocks-1.7.1-py3-none-any.whl (16 kB)\n",
            "Installing collected packages: PySocks, oauthlib, requests-oauthlib, tweepy\n",
            "Successfully installed PySocks-1.7.1 oauthlib-3.1.0 requests-oauthlib-1.3.0 tweepy-3.10.0\n"
          ],
          "name": "stdout"
        }
      ]
    },
    {
      "cell_type": "markdown",
      "metadata": {
        "id": "WQxwsLzIqsqC"
      },
      "source": [
        "<b>Import tweepy and pandas Library </b>"
      ]
    },
    {
      "cell_type": "code",
      "metadata": {
        "id": "8U4RaRjRqsqD"
      },
      "source": [
        "import tweepy\n",
        "import pandas as pd"
      ],
      "execution_count": null,
      "outputs": []
    },
    {
      "cell_type": "markdown",
      "metadata": {
        "id": "8KCTo6UBqsqE"
      },
      "source": [
        "Go to https://developer.twitter.com/en and get your own consumer key, consumer key secret, access token, access token secret. It is free of cost (Limited use)."
      ]
    },
    {
      "cell_type": "code",
      "metadata": {
        "id": "D7VyzNYvqsqH"
      },
      "source": [
        "# Save the keys and token obtained from twitter\n",
        "\n",
        "consumer_key = '2dq4wMRXvtNn8nFRx5V5qR6YX'\n",
        "consumer_secret = 'pLm7uEIyw6LEZdi7z51dFNOK7hAJTnSyDLqSFdiCdugcPcCOt2'\n",
        "access_token = '1382592322903314432-pVmJCnt2eYRSGRQqI0pzlxUfrSgzaR'\n",
        "access_token_secret = 'mnaYpOqOVHR1r45C07o3SjytVtASXb25vBcjLXeul7P7R'\n",
        "\n",
        "# api_key=\"2dq4wMRXvtNn8nFRx5V5qR6YX\"\n",
        "# api_secret_key=\"pLm7uEIyw6LEZdi7z51dFNOK7hAJTnSyDLqSFdiCdugcPcCOt2\"\n",
        "# bearer_token=\"AAAAAAAAAAAAAAAAAAAAAEN6OgEAAAAA8tgS1XdhAytyd71YR%2BRLdZW0nnU%3DjzEsCj0XQuccvpkT0cN0YeDqWa9w1GiPrSnFeBdBlEEq1UR5yJ\""
      ],
      "execution_count": null,
      "outputs": []
    },
    {
      "cell_type": "markdown",
      "metadata": {
        "id": "_F5NuaZaqsqJ"
      },
      "source": [
        "<b> Authentication using the obtained keys and tokens</b>"
      ]
    },
    {
      "cell_type": "code",
      "metadata": {
        "id": "9eAEQkb2qsqL"
      },
      "source": [
        "auth = tweepy.OAuthHandler(consumer_key, consumer_secret)\n",
        "auth.set_access_token(access_token, access_token_secret)\n",
        "api = tweepy.API(auth)"
      ],
      "execution_count": null,
      "outputs": []
    },
    {
      "cell_type": "markdown",
      "metadata": {
        "id": "MGzcLss5qsqN"
      },
      "source": [
        "<b> Importing 150 tweets from BBC News twitter handle (@BBCBreaking)</b>"
      ]
    },
    {
      "cell_type": "code",
      "metadata": {
        "id": "ksASlLlgqsqO"
      },
      "source": [
        "n_tweets = 150\n",
        "get_tweets = tweepy.Cursor(api.user_timeline, id = 'BBCBreaking', tweet_mode = 'extended').items(n_tweets)"
      ],
      "execution_count": null,
      "outputs": []
    },
    {
      "cell_type": "markdown",
      "metadata": {
        "id": "T7H3HW3AqsqP"
      },
      "source": [
        "150 tweet details relevant to the keyword will be stored in get_tweets variable in JSON format"
      ]
    },
    {
      "cell_type": "markdown",
      "metadata": {
        "id": "agUnm4XeqsqR"
      },
      "source": [
        "<b> Iterate over extracted tweets saved in 'get_tweets' variable and store the tweet's text and time</b>"
      ]
    },
    {
      "cell_type": "code",
      "metadata": {
        "id": "K8nlcKpqqsqS"
      },
      "source": [
        "tweets = []\n",
        "time_of_tweet = []\n",
        "for i in get_tweets:\n",
        "    tweets.append(i.full_text)            # .full_text returns the text written in a particular tweet\n",
        "    time_of_tweet.append(i.created_at)    # .created_at returns the time of tweet"
      ],
      "execution_count": null,
      "outputs": []
    },
    {
      "cell_type": "markdown",
      "metadata": {
        "id": "4FNECK_aqsqb"
      },
      "source": [
        "You can read about more tweepy attributes [here](https://developer.twitter.com/en/docs/twitter-api/v1/data-dictionary/object-model/tweet)"
      ]
    },
    {
      "cell_type": "markdown",
      "metadata": {
        "id": "aqzOay3sqsqc"
      },
      "source": [
        "<b> Store the Data in a DataFrame </b>"
      ]
    },
    {
      "cell_type": "code",
      "metadata": {
        "id": "5xyJ2tK9qsqd"
      },
      "source": [
        "df = pd.DataFrame({'tweet':tweets, 'time':time_of_tweet})"
      ],
      "execution_count": null,
      "outputs": []
    },
    {
      "cell_type": "markdown",
      "metadata": {
        "id": "voSmGAX2qsqe"
      },
      "source": [
        "<b> First 10 tweets </b>"
      ]
    },
    {
      "cell_type": "code",
      "metadata": {
        "id": "vETz1GBfqsqe",
        "outputId": "2c7648b3-a57e-410f-dd8c-53ce0bee8253"
      },
      "source": [
        "df.iloc[:10,:]"
      ],
      "execution_count": null,
      "outputs": [
        {
          "output_type": "execute_result",
          "data": {
            "text/html": [
              "<div>\n",
              "<style scoped>\n",
              "    .dataframe tbody tr th:only-of-type {\n",
              "        vertical-align: middle;\n",
              "    }\n",
              "\n",
              "    .dataframe tbody tr th {\n",
              "        vertical-align: top;\n",
              "    }\n",
              "\n",
              "    .dataframe thead th {\n",
              "        text-align: right;\n",
              "    }\n",
              "</style>\n",
              "<table border=\"1\" class=\"dataframe\">\n",
              "  <thead>\n",
              "    <tr style=\"text-align: right;\">\n",
              "      <th></th>\n",
              "      <th>tweet</th>\n",
              "      <th>time</th>\n",
              "    </tr>\n",
              "  </thead>\n",
              "  <tbody>\n",
              "    <tr>\n",
              "      <th>0</th>\n",
              "      <td>The Duke of Edinburgh's four children will wal...</td>\n",
              "      <td>2021-04-15 16:02:04</td>\n",
              "    </tr>\n",
              "    <tr>\n",
              "      <th>1</th>\n",
              "      <td>Former police officer Derek Chauvin accused of...</td>\n",
              "      <td>2021-04-15 15:03:31</td>\n",
              "    </tr>\n",
              "    <tr>\n",
              "      <th>2</th>\n",
              "      <td>Officer who shot dead motorist Daunte Wright n...</td>\n",
              "      <td>2021-04-14 16:31:43</td>\n",
              "    </tr>\n",
              "    <tr>\n",
              "      <th>3</th>\n",
              "      <td>Denmark becomes the first country to permanent...</td>\n",
              "      <td>2021-04-14 12:46:13</td>\n",
              "    </tr>\n",
              "    <tr>\n",
              "      <th>4</th>\n",
              "      <td>US President Joe Biden set to announce troops ...</td>\n",
              "      <td>2021-04-13 16:28:07</td>\n",
              "    </tr>\n",
              "    <tr>\n",
              "      <th>5</th>\n",
              "      <td>All those in UK’s top nine Covid priority grou...</td>\n",
              "      <td>2021-04-12 21:35:51</td>\n",
              "    </tr>\n",
              "    <tr>\n",
              "      <th>6</th>\n",
              "      <td>\"During this encounter... the officer drew the...</td>\n",
              "      <td>2021-04-12 18:21:08</td>\n",
              "    </tr>\n",
              "    <tr>\n",
              "      <th>7</th>\n",
              "      <td>Killing of Daunte Wright, a black man shot in ...</td>\n",
              "      <td>2021-04-12 18:12:26</td>\n",
              "    </tr>\n",
              "    <tr>\n",
              "      <th>8</th>\n",
              "      <td>Prince Harry says his grandfather was a man of...</td>\n",
              "      <td>2021-04-12 13:45:51</td>\n",
              "    </tr>\n",
              "    <tr>\n",
              "      <th>9</th>\n",
              "      <td>Prince William pays tribute to the “extraordin...</td>\n",
              "      <td>2021-04-12 13:12:33</td>\n",
              "    </tr>\n",
              "  </tbody>\n",
              "</table>\n",
              "</div>"
            ],
            "text/plain": [
              "                                               tweet                time\n",
              "0  The Duke of Edinburgh's four children will wal... 2021-04-15 16:02:04\n",
              "1  Former police officer Derek Chauvin accused of... 2021-04-15 15:03:31\n",
              "2  Officer who shot dead motorist Daunte Wright n... 2021-04-14 16:31:43\n",
              "3  Denmark becomes the first country to permanent... 2021-04-14 12:46:13\n",
              "4  US President Joe Biden set to announce troops ... 2021-04-13 16:28:07\n",
              "5  All those in UK’s top nine Covid priority grou... 2021-04-12 21:35:51\n",
              "6  \"During this encounter... the officer drew the... 2021-04-12 18:21:08\n",
              "7  Killing of Daunte Wright, a black man shot in ... 2021-04-12 18:12:26\n",
              "8  Prince Harry says his grandfather was a man of... 2021-04-12 13:45:51\n",
              "9  Prince William pays tribute to the “extraordin... 2021-04-12 13:12:33"
            ]
          },
          "metadata": {
            "tags": []
          },
          "execution_count": 33
        }
      ]
    },
    {
      "cell_type": "markdown",
      "metadata": {
        "id": "MSklmjgyqsqh"
      },
      "source": [
        "<b> Remove Re-tweets </b>"
      ]
    },
    {
      "cell_type": "code",
      "metadata": {
        "id": "eleHvkZaqsqi"
      },
      "source": [
        "# Remove Re-tweets\n",
        "df = df[df['tweet'].str.contains(\"RT\")==False]"
      ],
      "execution_count": null,
      "outputs": []
    },
    {
      "cell_type": "markdown",
      "metadata": {
        "id": "ObDhlZQeqsqj"
      },
      "source": [
        "<b> Reset Index </b>"
      ]
    },
    {
      "cell_type": "code",
      "metadata": {
        "id": "OJv7L5YYqsqk"
      },
      "source": [
        "# Reset index as there are some irregularities in index after removal of some rows\n",
        "df = df.reset_index().drop('index' ,axis = 1)"
      ],
      "execution_count": null,
      "outputs": []
    },
    {
      "cell_type": "markdown",
      "metadata": {
        "id": "UkWxAxNoqsql"
      },
      "source": [
        "<b> Remove Links as they dont represent sentiment </b>"
      ]
    },
    {
      "cell_type": "code",
      "metadata": {
        "id": "PQ0C8oLhqsqm"
      },
      "source": [
        "# Use Regex Library to find the pattern \"http\" followed any length of sting or number with white space and replace with \"\".\n",
        "import re\n",
        "\n",
        "# Keep df as backup, number of request you make from API is limited.\n",
        "df1 = df.copy()\n",
        "df1.tweet = df.tweet.apply(lambda x : re.sub(r\"http\\S+\", \"\", x))"
      ],
      "execution_count": null,
      "outputs": []
    },
    {
      "cell_type": "markdown",
      "metadata": {
        "id": "nG5A2RHqqsqn"
      },
      "source": [
        "<b> Remove '/n' wish represents line breaks </b>"
      ]
    },
    {
      "cell_type": "code",
      "metadata": {
        "id": "VW-HbIMGqsqo"
      },
      "source": [
        "df1.tweet = df1.tweet.apply(lambda x : x.replace('\\n\\n',' '))\n",
        "df1.tweet = df1.tweet.apply(lambda x : x.replace('\\n \\n',' '))"
      ],
      "execution_count": null,
      "outputs": []
    },
    {
      "cell_type": "markdown",
      "metadata": {
        "id": "KXtT-oNsqsqp"
      },
      "source": [
        "<b> TextBlob </b>  \n",
        "[TextBlob](https://textblob.readthedocs.io/en/dev/) is a Python (2 and 3) library for processing textual data. It provides a simple API for diving into common natural language processing (NLP) tasks such as part-of-speech tagging, noun phrase extraction, sentiment analysis, classification, translation, and more."
      ]
    },
    {
      "cell_type": "markdown",
      "metadata": {
        "id": "0ybxVi17qsqq"
      },
      "source": [
        "<b> Install Textblob </b>"
      ]
    },
    {
      "cell_type": "code",
      "metadata": {
        "id": "z5UoRPCkqsqq",
        "outputId": "55a3924f-dab0-4469-f6fa-5eb23ec5988f"
      },
      "source": [
        "!pip install textblob"
      ],
      "execution_count": null,
      "outputs": [
        {
          "output_type": "stream",
          "text": [
            "Requirement already satisfied: textblob in c:\\users\\rahul\\appdata\\local\\programs\\python\\python39\\lib\\site-packages (0.15.3)\n",
            "Requirement already satisfied: nltk>=3.1 in c:\\users\\rahul\\appdata\\local\\programs\\python\\python39\\lib\\site-packages (from textblob) (3.6.1)\n",
            "Requirement already satisfied: click in c:\\users\\rahul\\appdata\\local\\programs\\python\\python39\\lib\\site-packages (from nltk>=3.1->textblob) (7.1.2)\n",
            "Requirement already satisfied: joblib in c:\\users\\rahul\\appdata\\local\\programs\\python\\python39\\lib\\site-packages (from nltk>=3.1->textblob) (1.0.1)\n",
            "Requirement already satisfied: regex in c:\\users\\rahul\\appdata\\local\\programs\\python\\python39\\lib\\site-packages (from nltk>=3.1->textblob) (2021.4.4)\n",
            "Requirement already satisfied: tqdm in c:\\users\\rahul\\appdata\\local\\programs\\python\\python39\\lib\\site-packages (from nltk>=3.1->textblob) (4.60.0)\n"
          ],
          "name": "stdout"
        }
      ]
    },
    {
      "cell_type": "markdown",
      "metadata": {
        "id": "CGIS-C79qsqs"
      },
      "source": [
        "<b> Import Textblob and get tweet sentiment score and save it in 'sentimen' column of df1 </b>"
      ]
    },
    {
      "cell_type": "code",
      "metadata": {
        "id": "os_kIUckqsqs",
        "outputId": "e871ccb5-a839-4a53-fe72-ca7636743265"
      },
      "source": [
        "from textblob import TextBlob\n",
        "df1['sentiment'] = df1['tweet'].apply(lambda x: TextBlob(x).sentiment)\n",
        "df1"
      ],
      "execution_count": null,
      "outputs": [
        {
          "output_type": "execute_result",
          "data": {
            "text/html": [
              "<div>\n",
              "<style scoped>\n",
              "    .dataframe tbody tr th:only-of-type {\n",
              "        vertical-align: middle;\n",
              "    }\n",
              "\n",
              "    .dataframe tbody tr th {\n",
              "        vertical-align: top;\n",
              "    }\n",
              "\n",
              "    .dataframe thead th {\n",
              "        text-align: right;\n",
              "    }\n",
              "</style>\n",
              "<table border=\"1\" class=\"dataframe\">\n",
              "  <thead>\n",
              "    <tr style=\"text-align: right;\">\n",
              "      <th></th>\n",
              "      <th>tweet</th>\n",
              "      <th>time</th>\n",
              "      <th>sentiment</th>\n",
              "    </tr>\n",
              "  </thead>\n",
              "  <tbody>\n",
              "    <tr>\n",
              "      <th>0</th>\n",
              "      <td>Former police officer Derek Chauvin accused of...</td>\n",
              "      <td>2021-04-15 15:03:31</td>\n",
              "      <td>(0.0, 0.0)</td>\n",
              "    </tr>\n",
              "    <tr>\n",
              "      <th>1</th>\n",
              "      <td>Officer who shot dead motorist Daunte Wright n...</td>\n",
              "      <td>2021-04-14 16:31:43</td>\n",
              "      <td>(-0.05, 0.4)</td>\n",
              "    </tr>\n",
              "    <tr>\n",
              "      <th>2</th>\n",
              "      <td>Denmark becomes the first country to permanent...</td>\n",
              "      <td>2021-04-14 12:46:13</td>\n",
              "      <td>(0.275, 0.6166666666666667)</td>\n",
              "    </tr>\n",
              "    <tr>\n",
              "      <th>3</th>\n",
              "      <td>US President Joe Biden set to announce troops ...</td>\n",
              "      <td>2021-04-13 16:28:07</td>\n",
              "      <td>(0.0, 0.0)</td>\n",
              "    </tr>\n",
              "    <tr>\n",
              "      <th>4</th>\n",
              "      <td>All those in UK’s top nine Covid priority grou...</td>\n",
              "      <td>2021-04-12 21:35:51</td>\n",
              "      <td>(0.375, 0.41666666666666663)</td>\n",
              "    </tr>\n",
              "    <tr>\n",
              "      <th>...</th>\n",
              "      <td>...</td>\n",
              "      <td>...</td>\n",
              "      <td>...</td>\n",
              "    </tr>\n",
              "    <tr>\n",
              "      <th>137</th>\n",
              "      <td>“It’s hard to compute the sorrow contained in ...</td>\n",
              "      <td>2021-01-26 17:18:26</td>\n",
              "      <td>(-0.6458333333333334, 0.7708333333333333)</td>\n",
              "    </tr>\n",
              "    <tr>\n",
              "      <th>138</th>\n",
              "      <td>As the number of people who have died with Cov...</td>\n",
              "      <td>2021-01-26 16:50:02</td>\n",
              "      <td>(-0.5, 0.875)</td>\n",
              "    </tr>\n",
              "    <tr>\n",
              "      <th>139</th>\n",
              "      <td>More than 100,000 people have died with corona...</td>\n",
              "      <td>2021-01-26 16:41:04</td>\n",
              "      <td>(0.24242424242424243, 0.34848484848484845)</td>\n",
              "    </tr>\n",
              "    <tr>\n",
              "      <th>140</th>\n",
              "      <td>Janet Yellen confirmed as first female US Trea...</td>\n",
              "      <td>2021-01-25 23:46:01</td>\n",
              "      <td>(0.21666666666666667, 0.5)</td>\n",
              "    </tr>\n",
              "    <tr>\n",
              "      <th>141</th>\n",
              "      <td>Moderna Covid vaccine appears to work against ...</td>\n",
              "      <td>2021-01-25 14:40:24</td>\n",
              "      <td>(0.0, 0.0)</td>\n",
              "    </tr>\n",
              "  </tbody>\n",
              "</table>\n",
              "<p>142 rows × 3 columns</p>\n",
              "</div>"
            ],
            "text/plain": [
              "                                                 tweet                time  \\\n",
              "0    Former police officer Derek Chauvin accused of... 2021-04-15 15:03:31   \n",
              "1    Officer who shot dead motorist Daunte Wright n... 2021-04-14 16:31:43   \n",
              "2    Denmark becomes the first country to permanent... 2021-04-14 12:46:13   \n",
              "3    US President Joe Biden set to announce troops ... 2021-04-13 16:28:07   \n",
              "4    All those in UK’s top nine Covid priority grou... 2021-04-12 21:35:51   \n",
              "..                                                 ...                 ...   \n",
              "137  “It’s hard to compute the sorrow contained in ... 2021-01-26 17:18:26   \n",
              "138  As the number of people who have died with Cov... 2021-01-26 16:50:02   \n",
              "139  More than 100,000 people have died with corona... 2021-01-26 16:41:04   \n",
              "140  Janet Yellen confirmed as first female US Trea... 2021-01-25 23:46:01   \n",
              "141  Moderna Covid vaccine appears to work against ... 2021-01-25 14:40:24   \n",
              "\n",
              "                                      sentiment  \n",
              "0                                    (0.0, 0.0)  \n",
              "1                                  (-0.05, 0.4)  \n",
              "2                   (0.275, 0.6166666666666667)  \n",
              "3                                    (0.0, 0.0)  \n",
              "4                  (0.375, 0.41666666666666663)  \n",
              "..                                          ...  \n",
              "137   (-0.6458333333333334, 0.7708333333333333)  \n",
              "138                               (-0.5, 0.875)  \n",
              "139  (0.24242424242424243, 0.34848484848484845)  \n",
              "140                  (0.21666666666666667, 0.5)  \n",
              "141                                  (0.0, 0.0)  \n",
              "\n",
              "[142 rows x 3 columns]"
            ]
          },
          "metadata": {
            "tags": []
          },
          "execution_count": 29
        }
      ]
    },
    {
      "cell_type": "markdown",
      "metadata": {
        "id": "gxM07Q65qsqv"
      },
      "source": [
        "The .sentiment attribute returns 2 things :  \n",
        " - sentiment [-1,1] : 0 means neutral, <0 means negative and >0 means positive sentiment\n",
        " - Subjectiveness : tell if the topic being mentioned in the tweet is an opinion or fact.\n",
        " \n",
        "Since we have to check tweet's sentiment, we will use the sentiment score and classify it as positive, negative or neutral using a nested if-else statement."
      ]
    },
    {
      "cell_type": "code",
      "metadata": {
        "id": "dyKOFITsqsqw",
        "outputId": "4d983d13-a97c-4327-90c7-28a5174f1308"
      },
      "source": [
        "df1.sentiment = df1.sentiment.apply(lambda x : \"Positive\" if x[0] > 0 else (\"Negative\" if x[0] < 0 else \"Neutral\"))\n",
        "df1"
      ],
      "execution_count": null,
      "outputs": [
        {
          "output_type": "execute_result",
          "data": {
            "text/html": [
              "<div>\n",
              "<style scoped>\n",
              "    .dataframe tbody tr th:only-of-type {\n",
              "        vertical-align: middle;\n",
              "    }\n",
              "\n",
              "    .dataframe tbody tr th {\n",
              "        vertical-align: top;\n",
              "    }\n",
              "\n",
              "    .dataframe thead th {\n",
              "        text-align: right;\n",
              "    }\n",
              "</style>\n",
              "<table border=\"1\" class=\"dataframe\">\n",
              "  <thead>\n",
              "    <tr style=\"text-align: right;\">\n",
              "      <th></th>\n",
              "      <th>tweet</th>\n",
              "      <th>time</th>\n",
              "      <th>sentiment</th>\n",
              "    </tr>\n",
              "  </thead>\n",
              "  <tbody>\n",
              "    <tr>\n",
              "      <th>0</th>\n",
              "      <td>Former police officer Derek Chauvin accused of...</td>\n",
              "      <td>2021-04-15 15:03:31</td>\n",
              "      <td>Neutral</td>\n",
              "    </tr>\n",
              "    <tr>\n",
              "      <th>1</th>\n",
              "      <td>Officer who shot dead motorist Daunte Wright n...</td>\n",
              "      <td>2021-04-14 16:31:43</td>\n",
              "      <td>Negative</td>\n",
              "    </tr>\n",
              "    <tr>\n",
              "      <th>2</th>\n",
              "      <td>Denmark becomes the first country to permanent...</td>\n",
              "      <td>2021-04-14 12:46:13</td>\n",
              "      <td>Positive</td>\n",
              "    </tr>\n",
              "    <tr>\n",
              "      <th>3</th>\n",
              "      <td>US President Joe Biden set to announce troops ...</td>\n",
              "      <td>2021-04-13 16:28:07</td>\n",
              "      <td>Neutral</td>\n",
              "    </tr>\n",
              "    <tr>\n",
              "      <th>4</th>\n",
              "      <td>All those in UK’s top nine Covid priority grou...</td>\n",
              "      <td>2021-04-12 21:35:51</td>\n",
              "      <td>Positive</td>\n",
              "    </tr>\n",
              "    <tr>\n",
              "      <th>...</th>\n",
              "      <td>...</td>\n",
              "      <td>...</td>\n",
              "      <td>...</td>\n",
              "    </tr>\n",
              "    <tr>\n",
              "      <th>137</th>\n",
              "      <td>“It’s hard to compute the sorrow contained in ...</td>\n",
              "      <td>2021-01-26 17:18:26</td>\n",
              "      <td>Negative</td>\n",
              "    </tr>\n",
              "    <tr>\n",
              "      <th>138</th>\n",
              "      <td>As the number of people who have died with Cov...</td>\n",
              "      <td>2021-01-26 16:50:02</td>\n",
              "      <td>Negative</td>\n",
              "    </tr>\n",
              "    <tr>\n",
              "      <th>139</th>\n",
              "      <td>More than 100,000 people have died with corona...</td>\n",
              "      <td>2021-01-26 16:41:04</td>\n",
              "      <td>Positive</td>\n",
              "    </tr>\n",
              "    <tr>\n",
              "      <th>140</th>\n",
              "      <td>Janet Yellen confirmed as first female US Trea...</td>\n",
              "      <td>2021-01-25 23:46:01</td>\n",
              "      <td>Positive</td>\n",
              "    </tr>\n",
              "    <tr>\n",
              "      <th>141</th>\n",
              "      <td>Moderna Covid vaccine appears to work against ...</td>\n",
              "      <td>2021-01-25 14:40:24</td>\n",
              "      <td>Neutral</td>\n",
              "    </tr>\n",
              "  </tbody>\n",
              "</table>\n",
              "<p>142 rows × 3 columns</p>\n",
              "</div>"
            ],
            "text/plain": [
              "                                                 tweet                time  \\\n",
              "0    Former police officer Derek Chauvin accused of... 2021-04-15 15:03:31   \n",
              "1    Officer who shot dead motorist Daunte Wright n... 2021-04-14 16:31:43   \n",
              "2    Denmark becomes the first country to permanent... 2021-04-14 12:46:13   \n",
              "3    US President Joe Biden set to announce troops ... 2021-04-13 16:28:07   \n",
              "4    All those in UK’s top nine Covid priority grou... 2021-04-12 21:35:51   \n",
              "..                                                 ...                 ...   \n",
              "137  “It’s hard to compute the sorrow contained in ... 2021-01-26 17:18:26   \n",
              "138  As the number of people who have died with Cov... 2021-01-26 16:50:02   \n",
              "139  More than 100,000 people have died with corona... 2021-01-26 16:41:04   \n",
              "140  Janet Yellen confirmed as first female US Trea... 2021-01-25 23:46:01   \n",
              "141  Moderna Covid vaccine appears to work against ... 2021-01-25 14:40:24   \n",
              "\n",
              "    sentiment  \n",
              "0     Neutral  \n",
              "1    Negative  \n",
              "2    Positive  \n",
              "3     Neutral  \n",
              "4    Positive  \n",
              "..        ...  \n",
              "137  Negative  \n",
              "138  Negative  \n",
              "139  Positive  \n",
              "140  Positive  \n",
              "141   Neutral  \n",
              "\n",
              "[142 rows x 3 columns]"
            ]
          },
          "metadata": {
            "tags": []
          },
          "execution_count": 28
        }
      ]
    },
    {
      "cell_type": "markdown",
      "metadata": {
        "id": "fOqIlb9dqsqz"
      },
      "source": [
        "The sentiments corresponding to the tweets are stored in the sentiment column."
      ]
    }
  ]
}